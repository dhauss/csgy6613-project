{
  "nbformat": 4,
  "nbformat_minor": 0,
  "metadata": {
    "colab": {
      "provenance": []
    },
    "kernelspec": {
      "name": "python3",
      "display_name": "Python 3"
    },
    "language_info": {
      "name": "python"
    }
  },
  "cells": [
    {
      "cell_type": "markdown",
      "source": [
        "# Install Libraries"
      ],
      "metadata": {
        "id": "rZabxPRzoq7X"
      }
    },
    {
      "cell_type": "code",
      "execution_count": null,
      "metadata": {
        "id": "_-UXQ8nqoUTS"
      },
      "outputs": [],
      "source": [
        "%pip install segment-geospatial groundingdino-py leafmap localtileserver\n",
        "%pip install -q git+https://github.com/huggingface/transformers.git"
      ]
    },
    {
      "cell_type": "markdown",
      "source": [
        "# Import Dependencies"
      ],
      "metadata": {
        "id": "v0Ogk3ALouf3"
      }
    },
    {
      "cell_type": "code",
      "source": [
        "from datasets import Dataset, load_dataset\n",
        "import matplotlib.pyplot as plt\n",
        "import numpy as np\n",
        "import random\n",
        "from tqdm import tqdm\n",
        "import torch\n",
        "from PIL import Image\n",
        "import io\n",
        "import leafmap\n",
        "from samgeo import tms_to_geotiff, split_raster\n",
        "from samgeo.text_sam import LangSAM"
      ],
      "metadata": {
        "id": "SrcgdVgcobEO"
      },
      "execution_count": null,
      "outputs": []
    },
    {
      "cell_type": "code",
      "source": [
        "sidewalk_test = load_dataset(\"back2classroom/sidewalks\", split='val', streaming=True)"
      ],
      "metadata": {
        "id": "svbB18fFo598"
      },
      "execution_count": null,
      "outputs": []
    }
  ]
}