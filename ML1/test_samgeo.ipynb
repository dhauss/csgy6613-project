{
 "cells": [
  {
   "cell_type": "code",
   "execution_count": 1,
   "metadata": {},
   "outputs": [],
   "source": [
    "import os\n",
    "import torch\n",
    "from samgeo import SamGeo, tms_to_geotiff"
   ]
  },
  {
   "cell_type": "code",
   "execution_count": 2,
   "metadata": {},
   "outputs": [
    {
     "name": "stdout",
     "output_type": "stream",
     "text": [
      "Downloaded image 01/40\n",
      "Downloaded image 02/40\n",
      "Downloaded image 03/40\n",
      "Downloaded image 04/40\n",
      "Downloaded image 05/40\n",
      "Downloaded image 06/40\n",
      "Downloaded image 07/40\n",
      "Downloaded image 08/40\n",
      "Downloaded image 09/40\n",
      "Downloaded image 10/40\n",
      "Downloaded image 11/40\n",
      "Downloaded image 12/40\n",
      "Downloaded image 13/40\n",
      "Downloaded image 14/40\n",
      "Downloaded image 15/40\n",
      "Downloaded image 16/40\n",
      "Downloaded image 17/40\n",
      "Downloaded image 18/40\n",
      "Downloaded image 19/40\n",
      "Downloaded image 20/40\n",
      "Downloaded image 21/40\n",
      "Downloaded image 22/40\n",
      "Downloaded image 23/40\n",
      "Downloaded image 24/40\n",
      "Downloaded image 25/40\n",
      "Downloaded image 26/40\n",
      "Downloaded image 27/40\n",
      "Downloaded image 28/40\n",
      "Downloaded image 29/40\n",
      "Downloaded image 30/40\n",
      "Downloaded image 31/40\n",
      "Downloaded image 32/40\n",
      "Downloaded image 33/40\n",
      "Downloaded image 34/40\n",
      "Downloaded image 35/40\n",
      "Downloaded image 36/40\n",
      "Downloaded image 37/40\n",
      "Downloaded image 38/40\n",
      "Downloaded image 39/40\n",
      "Downloaded image 40/40\n",
      "Saving GeoTIFF. Please wait...\n",
      "Image saved to satellite.tif\n"
     ]
    }
   ],
   "source": [
    "bbox = [-95.3704, 29.6762, -95.368, 29.6775]\n",
    "image = 'satellite.tif'\n",
    "tms_to_geotiff(output=image, bbox=bbox, zoom=20, source='Satellite')\n",
    "\n",
    "out_dir = os.path.join(os.path.expanduser('~'), 'Downloads')\n",
    "checkpoint = os.path.join(out_dir, 'sam_vit_h_4b8939.pth')\n",
    "\n",
    "device = 'cuda' if torch.cuda.is_available() else 'cpu'\n",
    "sam = SamGeo(\n",
    "    checkpoint=checkpoint,\n",
    "    model_type='vit_h',\n",
    "    device=device,\n",
    "    erosion_kernel=(3, 3),\n",
    "    mask_multiplier=255,\n",
    "    sam_kwargs=None,\n",
    ")\n",
    "\n",
    "mask = 'segment.tif'\n",
    "sam.generate(image, mask)\n",
    "\n",
    "vector = 'segment.gpkg'\n",
    "sam.tiff_to_gpkg(mask, vector, simplify_tolerance=None)"
   ]
  }
 ],
 "metadata": {
  "kernelspec": {
   "display_name": "Python 3",
   "language": "python",
   "name": "python3"
  },
  "language_info": {
   "codemirror_mode": {
    "name": "ipython",
    "version": 3
   },
   "file_extension": ".py",
   "mimetype": "text/x-python",
   "name": "python",
   "nbconvert_exporter": "python",
   "pygments_lexer": "ipython3",
   "version": "3.10.12"
  }
 },
 "nbformat": 4,
 "nbformat_minor": 2
}
